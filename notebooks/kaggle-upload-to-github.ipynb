{
 "cells": [
  {
   "cell_type": "code",
   "execution_count": 1,
   "id": "83e1ee19",
   "metadata": {
    "_cell_guid": "b1076dfc-b9ad-4769-8c92-a6c4dae69d19",
    "_uuid": "8f2839f25d086af736a60e9eeb907d3b93b6e0e5",
    "execution": {
     "iopub.execute_input": "2025-10-13T08:47:58.782032Z",
     "iopub.status.busy": "2025-10-13T08:47:58.781311Z",
     "iopub.status.idle": "2025-10-13T08:48:11.327261Z",
     "shell.execute_reply": "2025-10-13T08:48:11.326409Z"
    },
    "papermill": {
     "duration": 12.551066,
     "end_time": "2025-10-13T08:48:11.328850",
     "exception": false,
     "start_time": "2025-10-13T08:47:58.777784",
     "status": "completed"
    },
    "tags": []
   },
   "outputs": [
    {
     "name": "stdout",
     "output_type": "stream",
     "text": [
      "\r\n",
      "\r\n",
      "\r\n",
      "The following additional packages will be installed:\r\n",
      "  dictionaries-common hunspell-en-us libhunspell-1.7-0 libtext-iconv-perl\r\n",
      "Suggested packages:\r\n",
      "  ispell | aspell | hunspell wordlist hunspell openoffice.org-hunspell\r\n",
      "  | openoffice.org-core\r\n",
      "The following NEW packages will be installed:\r\n",
      "  dictionaries-common hunspell-en-us libhunspell-1.7-0 libhunspell-dev\r\n",
      "  libtext-iconv-perl\r\n",
      "0 upgraded, 5 newly installed, 0 to remove and 132 not upgraded.\r\n",
      "Need to get 896 kB of archives.\r\n",
      "After this operation, 3,130 kB of additional disk space will be used.\r\n",
      "Get:1 http://archive.ubuntu.com/ubuntu jammy/main amd64 libtext-iconv-perl amd64 1.7-7build3 [14.3 kB]\r\n",
      "Get:2 http://archive.ubuntu.com/ubuntu jammy/main amd64 dictionaries-common all 1.28.14 [185 kB]\r\n",
      "Get:3 http://archive.ubuntu.com/ubuntu jammy/main amd64 hunspell-en-us all 1:2020.12.07-2 [280 kB]\r\n",
      "Get:4 http://archive.ubuntu.com/ubuntu jammy/main amd64 libhunspell-1.7-0 amd64 1.7.0-4build1 [175 kB]\r\n",
      "Get:5 http://archive.ubuntu.com/ubuntu jammy/main amd64 libhunspell-dev amd64 1.7.0-4build1 [241 kB]\r\n",
      "Fetched 896 kB in 1s (1,435 kB/s)\r\n",
      "Preconfiguring packages ...\r\n",
      "Selecting previously unselected package libtext-iconv-perl.\r\n",
      "(Reading database ... 128639 files and directories currently installed.)\r\n",
      "Preparing to unpack .../libtext-iconv-perl_1.7-7build3_amd64.deb ...\r\n",
      "Unpacking libtext-iconv-perl (1.7-7build3) ...\r\n",
      "Selecting previously unselected package dictionaries-common.\r\n",
      "Preparing to unpack .../dictionaries-common_1.28.14_all.deb ...\r\n",
      "Adding 'diversion of /usr/share/dict/words to /usr/share/dict/words.pre-dictionaries-common by dictionaries-common'\r\n",
      "Unpacking dictionaries-common (1.28.14) ...\r\n",
      "Selecting previously unselected package hunspell-en-us.\r\n",
      "Preparing to unpack .../hunspell-en-us_1%3a2020.12.07-2_all.deb ...\r\n",
      "Unpacking hunspell-en-us (1:2020.12.07-2) ...\r\n",
      "Selecting previously unselected package libhunspell-1.7-0:amd64.\r\n",
      "Preparing to unpack .../libhunspell-1.7-0_1.7.0-4build1_amd64.deb ...\r\n",
      "Unpacking libhunspell-1.7-0:amd64 (1.7.0-4build1) ...\r\n",
      "Selecting previously unselected package libhunspell-dev:amd64.\r\n",
      "Preparing to unpack .../libhunspell-dev_1.7.0-4build1_amd64.deb ...\r\n",
      "Unpacking libhunspell-dev:amd64 (1.7.0-4build1) ...\r\n",
      "Setting up libtext-iconv-perl (1.7-7build3) ...\r\n",
      "Setting up dictionaries-common (1.28.14) ...\r\n",
      "Setting up hunspell-en-us (1:2020.12.07-2) ...\r\n",
      "Setting up libhunspell-1.7-0:amd64 (1.7.0-4build1) ...\r\n",
      "Setting up libhunspell-dev:amd64 (1.7.0-4build1) ...\r\n",
      "Processing triggers for man-db (2.10.2-1) ...\r\n",
      "Processing triggers for libc-bin (2.35-0ubuntu3.8) ...\r\n",
      "/sbin/ldconfig.real: /usr/local/lib/libumf.so.0 is not a symbolic link\r\n",
      "\r\n",
      "/sbin/ldconfig.real: /usr/local/lib/libtcm_debug.so.1 is not a symbolic link\r\n",
      "\r\n",
      "/sbin/ldconfig.real: /usr/local/lib/libtcm.so.1 is not a symbolic link\r\n",
      "\r\n",
      "/sbin/ldconfig.real: /usr/local/lib/libhwloc.so.15 is not a symbolic link\r\n",
      "\r\n",
      "/sbin/ldconfig.real: /usr/local/lib/libur_loader.so.0 is not a symbolic link\r\n",
      "\r\n",
      "/sbin/ldconfig.real: /usr/local/lib/libur_adapter_level_zero.so.0 is not a symbolic link\r\n",
      "\r\n",
      "/sbin/ldconfig.real: /usr/local/lib/libur_adapter_opencl.so.0 is not a symbolic link\r\n",
      "\r\n",
      "/sbin/ldconfig.real: /usr/local/lib/libtbbbind_2_5.so.3 is not a symbolic link\r\n",
      "\r\n",
      "/sbin/ldconfig.real: /usr/local/lib/libtbbbind.so.3 is not a symbolic link\r\n",
      "\r\n",
      "/sbin/ldconfig.real: /usr/local/lib/libtbbbind_2_0.so.3 is not a symbolic link\r\n",
      "\r\n",
      "/sbin/ldconfig.real: /usr/local/lib/libtbb.so.12 is not a symbolic link\r\n",
      "\r\n",
      "/sbin/ldconfig.real: /usr/local/lib/libtbbmalloc_proxy.so.2 is not a symbolic link\r\n",
      "\r\n",
      "/sbin/ldconfig.real: /usr/local/lib/libtbbmalloc.so.2 is not a symbolic link\r\n",
      "\r\n",
      "Processing triggers for dictionaries-common (1.28.14) ...\r\n",
      "\r\n",
      "\r\n",
      "\r\n",
      "hunspell-en-us is already the newest version (1:2020.12.07-2).\r\n",
      "hunspell-en-us set to manually installed.\r\n",
      "0 upgraded, 0 newly installed, 0 to remove and 132 not upgraded.\r\n"
     ]
    }
   ],
   "source": [
    "!apt-get install libhunspell-dev\n",
    "!apt-get install hunspell-en-us"
   ]
  },
  {
   "cell_type": "code",
   "execution_count": 2,
   "id": "5987aced",
   "metadata": {
    "execution": {
     "iopub.execute_input": "2025-10-13T08:48:11.339562Z",
     "iopub.status.busy": "2025-10-13T08:48:11.339329Z",
     "iopub.status.idle": "2025-10-13T08:48:11.465432Z",
     "shell.execute_reply": "2025-10-13T08:48:11.464822Z"
    },
    "papermill": {
     "duration": 0.132626,
     "end_time": "2025-10-13T08:48:11.466659",
     "exception": false,
     "start_time": "2025-10-13T08:48:11.334033",
     "status": "completed"
    },
    "tags": []
   },
   "outputs": [],
   "source": [
    "import os\n",
    "from kaggle_secrets import UserSecretsClient\n",
    "user_secrets = UserSecretsClient()\n",
    "GH_TOKEN = user_secrets.get_secret(\"GH_TOKEN\")\n",
    "os.environ['GH_TOKEN'] = GH_TOKEN"
   ]
  },
  {
   "cell_type": "code",
   "execution_count": 3,
   "id": "93ae58d8",
   "metadata": {
    "execution": {
     "iopub.execute_input": "2025-10-13T08:48:11.476839Z",
     "iopub.status.busy": "2025-10-13T08:48:11.476405Z",
     "iopub.status.idle": "2025-10-13T08:48:11.721167Z",
     "shell.execute_reply": "2025-10-13T08:48:11.720072Z"
    },
    "papermill": {
     "duration": 0.251343,
     "end_time": "2025-10-13T08:48:11.722716",
     "exception": false,
     "start_time": "2025-10-13T08:48:11.471373",
     "status": "completed"
    },
    "tags": []
   },
   "outputs": [],
   "source": [
    "!git config --global user.name \"Tamplier\"\n",
    "!git config --global user.email \"araman777@gmail.com\""
   ]
  },
  {
   "cell_type": "code",
   "execution_count": 4,
   "id": "7dc71dbf",
   "metadata": {
    "execution": {
     "iopub.execute_input": "2025-10-13T08:48:11.733323Z",
     "iopub.status.busy": "2025-10-13T08:48:11.732835Z",
     "iopub.status.idle": "2025-10-13T08:48:16.417355Z",
     "shell.execute_reply": "2025-10-13T08:48:16.416472Z"
    },
    "papermill": {
     "duration": 4.691183,
     "end_time": "2025-10-13T08:48:16.418684",
     "exception": false,
     "start_time": "2025-10-13T08:48:11.727501",
     "status": "completed"
    },
    "tags": []
   },
   "outputs": [
    {
     "name": "stdout",
     "output_type": "stream",
     "text": [
      "Cloning into 'nlp_suicide_watch'...\r\n",
      "remote: Enumerating objects: 111, done.\u001b[K\r\n",
      "remote: Counting objects: 100% (111/111), done.\u001b[K\r\n",
      "remote: Compressing objects: 100% (73/73), done.\u001b[K\r\n",
      "remote: Total 111 (delta 41), reused 93 (delta 26), pack-reused 0 (from 0)\u001b[K\r\n",
      "Receiving objects: 100% (111/111), 660.73 KiB | 17.86 MiB/s, done.\r\n",
      "Resolving deltas: 100% (41/41), done.\r\n",
      "/kaggle/working/nlp_suicide_watch\n"
     ]
    }
   ],
   "source": [
    "!git clone https://$GH_TOKEN@github.com/Tamplier/nlp_suicide_watch.git\n",
    "%cd nlp_suicide_watch"
   ]
  },
  {
   "cell_type": "code",
   "execution_count": 5,
   "id": "a86f5d17",
   "metadata": {
    "execution": {
     "iopub.execute_input": "2025-10-13T08:48:16.430543Z",
     "iopub.status.busy": "2025-10-13T08:48:16.430257Z",
     "iopub.status.idle": "2025-10-13T08:49:47.667318Z",
     "shell.execute_reply": "2025-10-13T08:49:47.666537Z"
    },
    "papermill": {
     "duration": 91.244898,
     "end_time": "2025-10-13T08:49:47.668907",
     "exception": false,
     "start_time": "2025-10-13T08:48:16.424009",
     "status": "completed"
    },
    "tags": []
   },
   "outputs": [
    {
     "name": "stdout",
     "output_type": "stream",
     "text": [
      "Collecting iterative-stratification (from -r requirements_kaggle.txt (line 1))\r\n",
      "  Downloading iterative_stratification-0.1.9-py3-none-any.whl.metadata (1.3 kB)\r\n",
      "Collecting urlextract (from -r requirements_kaggle.txt (line 2))\r\n",
      "  Downloading urlextract-1.9.0-py3-none-any.whl.metadata (5.8 kB)\r\n",
      "Collecting emot (from -r requirements_kaggle.txt (line 3))\r\n",
      "  Downloading emot-3.1-py3-none-any.whl.metadata (396 bytes)\r\n",
      "Collecting hunspell (from -r requirements_kaggle.txt (line 4))\r\n",
      "  Downloading hunspell-0.5.5.tar.gz (34 kB)\r\n",
      "  Preparing metadata (setup.py) ... \u001b[?25l\u001b[?25hdone\r\n",
      "Collecting pyspellchecker (from -r requirements_kaggle.txt (line 5))\r\n",
      "  Downloading pyspellchecker-0.8.3-py3-none-any.whl.metadata (9.5 kB)\r\n",
      "Collecting invoke (from -r requirements_kaggle.txt (line 6))\r\n",
      "  Downloading invoke-2.2.1-py3-none-any.whl.metadata (3.3 kB)\r\n",
      "Collecting symspellpy (from -r requirements_kaggle.txt (line 7))\r\n",
      "  Downloading symspellpy-6.9.0-py3-none-any.whl.metadata (3.9 kB)\r\n",
      "Collecting sentence_transformers>=5.1 (from -r requirements_kaggle.txt (line 8))\r\n",
      "  Downloading sentence_transformers-5.1.1-py3-none-any.whl.metadata (16 kB)\r\n",
      "Requirement already satisfied: numpy in /usr/local/lib/python3.11/dist-packages (from iterative-stratification->-r requirements_kaggle.txt (line 1)) (1.26.4)\r\n",
      "Requirement already satisfied: scipy in /usr/local/lib/python3.11/dist-packages (from iterative-stratification->-r requirements_kaggle.txt (line 1)) (1.15.3)\r\n",
      "Requirement already satisfied: scikit-learn in /usr/local/lib/python3.11/dist-packages (from iterative-stratification->-r requirements_kaggle.txt (line 1)) (1.2.2)\r\n",
      "Requirement already satisfied: idna in /usr/local/lib/python3.11/dist-packages (from urlextract->-r requirements_kaggle.txt (line 2)) (3.10)\r\n",
      "Collecting uritools (from urlextract->-r requirements_kaggle.txt (line 2))\r\n",
      "  Downloading uritools-5.0.0-py3-none-any.whl.metadata (5.0 kB)\r\n",
      "Requirement already satisfied: platformdirs in /usr/local/lib/python3.11/dist-packages (from urlextract->-r requirements_kaggle.txt (line 2)) (4.4.0)\r\n",
      "Requirement already satisfied: filelock in /usr/local/lib/python3.11/dist-packages (from urlextract->-r requirements_kaggle.txt (line 2)) (3.19.1)\r\n",
      "Collecting editdistpy>=0.1.3 (from symspellpy->-r requirements_kaggle.txt (line 7))\r\n",
      "  Downloading editdistpy-0.1.6-cp311-cp311-manylinux_2_5_x86_64.manylinux1_x86_64.manylinux_2_17_x86_64.manylinux2014_x86_64.whl.metadata (6.7 kB)\r\n",
      "Requirement already satisfied: transformers<5.0.0,>=4.41.0 in /usr/local/lib/python3.11/dist-packages (from sentence_transformers>=5.1->-r requirements_kaggle.txt (line 8)) (4.53.3)\r\n",
      "Requirement already satisfied: tqdm in /usr/local/lib/python3.11/dist-packages (from sentence_transformers>=5.1->-r requirements_kaggle.txt (line 8)) (4.67.1)\r\n",
      "Requirement already satisfied: torch>=1.11.0 in /usr/local/lib/python3.11/dist-packages (from sentence_transformers>=5.1->-r requirements_kaggle.txt (line 8)) (2.6.0+cu124)\r\n",
      "Requirement already satisfied: huggingface-hub>=0.20.0 in /usr/local/lib/python3.11/dist-packages (from sentence_transformers>=5.1->-r requirements_kaggle.txt (line 8)) (1.0.0rc2)\r\n",
      "Requirement already satisfied: Pillow in /usr/local/lib/python3.11/dist-packages (from sentence_transformers>=5.1->-r requirements_kaggle.txt (line 8)) (11.3.0)\r\n",
      "Requirement already satisfied: typing_extensions>=4.5.0 in /usr/local/lib/python3.11/dist-packages (from sentence_transformers>=5.1->-r requirements_kaggle.txt (line 8)) (4.15.0)\r\n",
      "Requirement already satisfied: fsspec>=2023.5.0 in /usr/local/lib/python3.11/dist-packages (from huggingface-hub>=0.20.0->sentence_transformers>=5.1->-r requirements_kaggle.txt (line 8)) (2025.9.0)\r\n",
      "Requirement already satisfied: packaging>=20.9 in /usr/local/lib/python3.11/dist-packages (from huggingface-hub>=0.20.0->sentence_transformers>=5.1->-r requirements_kaggle.txt (line 8)) (25.0)\r\n",
      "Requirement already satisfied: pyyaml>=5.1 in /usr/local/lib/python3.11/dist-packages (from huggingface-hub>=0.20.0->sentence_transformers>=5.1->-r requirements_kaggle.txt (line 8)) (6.0.3)\r\n",
      "Requirement already satisfied: httpx<1,>=0.23.0 in /usr/local/lib/python3.11/dist-packages (from huggingface-hub>=0.20.0->sentence_transformers>=5.1->-r requirements_kaggle.txt (line 8)) (0.28.1)\r\n",
      "Requirement already satisfied: typer-slim in /usr/local/lib/python3.11/dist-packages (from huggingface-hub>=0.20.0->sentence_transformers>=5.1->-r requirements_kaggle.txt (line 8)) (0.19.2)\r\n",
      "Requirement already satisfied: hf-xet<2.0.0,>=1.1.3 in /usr/local/lib/python3.11/dist-packages (from huggingface-hub>=0.20.0->sentence_transformers>=5.1->-r requirements_kaggle.txt (line 8)) (1.1.10)\r\n",
      "Requirement already satisfied: networkx in /usr/local/lib/python3.11/dist-packages (from torch>=1.11.0->sentence_transformers>=5.1->-r requirements_kaggle.txt (line 8)) (3.5)\r\n",
      "Requirement already satisfied: jinja2 in /usr/local/lib/python3.11/dist-packages (from torch>=1.11.0->sentence_transformers>=5.1->-r requirements_kaggle.txt (line 8)) (3.1.6)\r\n",
      "Collecting nvidia-cuda-nvrtc-cu12==12.4.127 (from torch>=1.11.0->sentence_transformers>=5.1->-r requirements_kaggle.txt (line 8))\r\n",
      "  Downloading nvidia_cuda_nvrtc_cu12-12.4.127-py3-none-manylinux2014_x86_64.whl.metadata (1.5 kB)\r\n",
      "Collecting nvidia-cuda-runtime-cu12==12.4.127 (from torch>=1.11.0->sentence_transformers>=5.1->-r requirements_kaggle.txt (line 8))\r\n",
      "  Downloading nvidia_cuda_runtime_cu12-12.4.127-py3-none-manylinux2014_x86_64.whl.metadata (1.5 kB)\r\n",
      "Collecting nvidia-cuda-cupti-cu12==12.4.127 (from torch>=1.11.0->sentence_transformers>=5.1->-r requirements_kaggle.txt (line 8))\r\n",
      "  Downloading nvidia_cuda_cupti_cu12-12.4.127-py3-none-manylinux2014_x86_64.whl.metadata (1.6 kB)\r\n",
      "Collecting nvidia-cudnn-cu12==9.1.0.70 (from torch>=1.11.0->sentence_transformers>=5.1->-r requirements_kaggle.txt (line 8))\r\n",
      "  Downloading nvidia_cudnn_cu12-9.1.0.70-py3-none-manylinux2014_x86_64.whl.metadata (1.6 kB)\r\n",
      "Collecting nvidia-cublas-cu12==12.4.5.8 (from torch>=1.11.0->sentence_transformers>=5.1->-r requirements_kaggle.txt (line 8))\r\n",
      "  Downloading nvidia_cublas_cu12-12.4.5.8-py3-none-manylinux2014_x86_64.whl.metadata (1.5 kB)\r\n",
      "Collecting nvidia-cufft-cu12==11.2.1.3 (from torch>=1.11.0->sentence_transformers>=5.1->-r requirements_kaggle.txt (line 8))\r\n",
      "  Downloading nvidia_cufft_cu12-11.2.1.3-py3-none-manylinux2014_x86_64.whl.metadata (1.5 kB)\r\n",
      "Collecting nvidia-curand-cu12==10.3.5.147 (from torch>=1.11.0->sentence_transformers>=5.1->-r requirements_kaggle.txt (line 8))\r\n",
      "  Downloading nvidia_curand_cu12-10.3.5.147-py3-none-manylinux2014_x86_64.whl.metadata (1.5 kB)\r\n",
      "Collecting nvidia-cusolver-cu12==11.6.1.9 (from torch>=1.11.0->sentence_transformers>=5.1->-r requirements_kaggle.txt (line 8))\r\n",
      "  Downloading nvidia_cusolver_cu12-11.6.1.9-py3-none-manylinux2014_x86_64.whl.metadata (1.6 kB)\r\n",
      "Collecting nvidia-cusparse-cu12==12.3.1.170 (from torch>=1.11.0->sentence_transformers>=5.1->-r requirements_kaggle.txt (line 8))\r\n",
      "  Downloading nvidia_cusparse_cu12-12.3.1.170-py3-none-manylinux2014_x86_64.whl.metadata (1.6 kB)\r\n",
      "Requirement already satisfied: nvidia-cusparselt-cu12==0.6.2 in /usr/local/lib/python3.11/dist-packages (from torch>=1.11.0->sentence_transformers>=5.1->-r requirements_kaggle.txt (line 8)) (0.6.2)\r\n",
      "Requirement already satisfied: nvidia-nccl-cu12==2.21.5 in /usr/local/lib/python3.11/dist-packages (from torch>=1.11.0->sentence_transformers>=5.1->-r requirements_kaggle.txt (line 8)) (2.21.5)\r\n",
      "Requirement already satisfied: nvidia-nvtx-cu12==12.4.127 in /usr/local/lib/python3.11/dist-packages (from torch>=1.11.0->sentence_transformers>=5.1->-r requirements_kaggle.txt (line 8)) (12.4.127)\r\n",
      "Collecting nvidia-nvjitlink-cu12==12.4.127 (from torch>=1.11.0->sentence_transformers>=5.1->-r requirements_kaggle.txt (line 8))\r\n",
      "  Downloading nvidia_nvjitlink_cu12-12.4.127-py3-none-manylinux2014_x86_64.whl.metadata (1.5 kB)\r\n",
      "Requirement already satisfied: triton==3.2.0 in /usr/local/lib/python3.11/dist-packages (from torch>=1.11.0->sentence_transformers>=5.1->-r requirements_kaggle.txt (line 8)) (3.2.0)\r\n",
      "Requirement already satisfied: sympy==1.13.1 in /usr/local/lib/python3.11/dist-packages (from torch>=1.11.0->sentence_transformers>=5.1->-r requirements_kaggle.txt (line 8)) (1.13.1)\r\n",
      "Requirement already satisfied: mpmath<1.4,>=1.1.0 in /usr/local/lib/python3.11/dist-packages (from sympy==1.13.1->torch>=1.11.0->sentence_transformers>=5.1->-r requirements_kaggle.txt (line 8)) (1.3.0)\r\n",
      "Collecting huggingface-hub>=0.20.0 (from sentence_transformers>=5.1->-r requirements_kaggle.txt (line 8))\r\n",
      "  Downloading huggingface_hub-0.35.3-py3-none-any.whl.metadata (14 kB)\r\n",
      "Requirement already satisfied: regex!=2019.12.17 in /usr/local/lib/python3.11/dist-packages (from transformers<5.0.0,>=4.41.0->sentence_transformers>=5.1->-r requirements_kaggle.txt (line 8)) (2025.9.18)\r\n",
      "Requirement already satisfied: requests in /usr/local/lib/python3.11/dist-packages (from transformers<5.0.0,>=4.41.0->sentence_transformers>=5.1->-r requirements_kaggle.txt (line 8)) (2.32.5)\r\n",
      "Requirement already satisfied: tokenizers<0.22,>=0.21 in /usr/local/lib/python3.11/dist-packages (from transformers<5.0.0,>=4.41.0->sentence_transformers>=5.1->-r requirements_kaggle.txt (line 8)) (0.21.2)\r\n",
      "Requirement already satisfied: safetensors>=0.4.3 in /usr/local/lib/python3.11/dist-packages (from transformers<5.0.0,>=4.41.0->sentence_transformers>=5.1->-r requirements_kaggle.txt (line 8)) (0.5.3)\r\n",
      "Requirement already satisfied: mkl_fft in /usr/local/lib/python3.11/dist-packages (from numpy->iterative-stratification->-r requirements_kaggle.txt (line 1)) (1.3.8)\r\n",
      "Requirement already satisfied: mkl_random in /usr/local/lib/python3.11/dist-packages (from numpy->iterative-stratification->-r requirements_kaggle.txt (line 1)) (1.2.4)\r\n",
      "Requirement already satisfied: mkl_umath in /usr/local/lib/python3.11/dist-packages (from numpy->iterative-stratification->-r requirements_kaggle.txt (line 1)) (0.1.1)\r\n",
      "Requirement already satisfied: mkl in /usr/local/lib/python3.11/dist-packages (from numpy->iterative-stratification->-r requirements_kaggle.txt (line 1)) (2025.2.0)\r\n",
      "Requirement already satisfied: tbb4py in /usr/local/lib/python3.11/dist-packages (from numpy->iterative-stratification->-r requirements_kaggle.txt (line 1)) (2022.2.0)\r\n",
      "Requirement already satisfied: mkl-service in /usr/local/lib/python3.11/dist-packages (from numpy->iterative-stratification->-r requirements_kaggle.txt (line 1)) (2.4.1)\r\n",
      "Requirement already satisfied: joblib>=1.1.1 in /usr/local/lib/python3.11/dist-packages (from scikit-learn->iterative-stratification->-r requirements_kaggle.txt (line 1)) (1.5.2)\r\n",
      "Requirement already satisfied: threadpoolctl>=2.0.0 in /usr/local/lib/python3.11/dist-packages (from scikit-learn->iterative-stratification->-r requirements_kaggle.txt (line 1)) (3.6.0)\r\n",
      "Requirement already satisfied: MarkupSafe>=2.0 in /usr/local/lib/python3.11/dist-packages (from jinja2->torch>=1.11.0->sentence_transformers>=5.1->-r requirements_kaggle.txt (line 8)) (3.0.2)\r\n",
      "Requirement already satisfied: intel-openmp<2026,>=2024 in /usr/local/lib/python3.11/dist-packages (from mkl->numpy->iterative-stratification->-r requirements_kaggle.txt (line 1)) (2024.2.0)\r\n",
      "Requirement already satisfied: tbb==2022.* in /usr/local/lib/python3.11/dist-packages (from mkl->numpy->iterative-stratification->-r requirements_kaggle.txt (line 1)) (2022.2.0)\r\n",
      "Requirement already satisfied: tcmlib==1.* in /usr/local/lib/python3.11/dist-packages (from tbb==2022.*->mkl->numpy->iterative-stratification->-r requirements_kaggle.txt (line 1)) (1.4.0)\r\n",
      "Requirement already satisfied: intel-cmplr-lib-rt in /usr/local/lib/python3.11/dist-packages (from mkl_umath->numpy->iterative-stratification->-r requirements_kaggle.txt (line 1)) (2024.2.0)\r\n",
      "Requirement already satisfied: charset_normalizer<4,>=2 in /usr/local/lib/python3.11/dist-packages (from requests->transformers<5.0.0,>=4.41.0->sentence_transformers>=5.1->-r requirements_kaggle.txt (line 8)) (3.4.3)\r\n",
      "Requirement already satisfied: urllib3<3,>=1.21.1 in /usr/local/lib/python3.11/dist-packages (from requests->transformers<5.0.0,>=4.41.0->sentence_transformers>=5.1->-r requirements_kaggle.txt (line 8)) (2.5.0)\r\n",
      "Requirement already satisfied: certifi>=2017.4.17 in /usr/local/lib/python3.11/dist-packages (from requests->transformers<5.0.0,>=4.41.0->sentence_transformers>=5.1->-r requirements_kaggle.txt (line 8)) (2025.8.3)\r\n",
      "Requirement already satisfied: intel-cmplr-lib-ur==2024.2.0 in /usr/local/lib/python3.11/dist-packages (from intel-openmp<2026,>=2024->mkl->numpy->iterative-stratification->-r requirements_kaggle.txt (line 1)) (2024.2.0)\r\n",
      "Requirement already satisfied: anyio in /usr/local/lib/python3.11/dist-packages (from httpx<1,>=0.23.0->huggingface-hub>=0.20.0->sentence_transformers>=5.1->-r requirements_kaggle.txt (line 8)) (4.11.0)\r\n",
      "Requirement already satisfied: httpcore==1.* in /usr/local/lib/python3.11/dist-packages (from httpx<1,>=0.23.0->huggingface-hub>=0.20.0->sentence_transformers>=5.1->-r requirements_kaggle.txt (line 8)) (1.0.9)\r\n",
      "Requirement already satisfied: h11>=0.16 in /usr/local/lib/python3.11/dist-packages (from httpcore==1.*->httpx<1,>=0.23.0->huggingface-hub>=0.20.0->sentence_transformers>=5.1->-r requirements_kaggle.txt (line 8)) (0.16.0)\r\n",
      "Requirement already satisfied: sniffio>=1.1 in /usr/local/lib/python3.11/dist-packages (from anyio->httpx<1,>=0.23.0->huggingface-hub>=0.20.0->sentence_transformers>=5.1->-r requirements_kaggle.txt (line 8)) (1.3.1)\r\n",
      "Requirement already satisfied: click>=8.0.0 in /usr/local/lib/python3.11/dist-packages (from typer-slim->huggingface-hub>=0.20.0->sentence_transformers>=5.1->-r requirements_kaggle.txt (line 8)) (8.3.0)\r\n",
      "Downloading iterative_stratification-0.1.9-py3-none-any.whl (8.5 kB)\r\n",
      "Downloading urlextract-1.9.0-py3-none-any.whl (21 kB)\r\n",
      "Downloading emot-3.1-py3-none-any.whl (61 kB)\r\n",
      "\u001b[2K   \u001b[90m━━━━━━━━━━━━━━━━━━━━━━━━━━━━━━━━━━━━━━━━\u001b[0m \u001b[32m61.5/61.5 kB\u001b[0m \u001b[31m4.0 MB/s\u001b[0m eta \u001b[36m0:00:00\u001b[0m\r\n",
      "\u001b[?25hDownloading pyspellchecker-0.8.3-py3-none-any.whl (7.2 MB)\r\n",
      "\u001b[2K   \u001b[90m━━━━━━━━━━━━━━━━━━━━━━━━━━━━━━━━━━━━━━━━\u001b[0m \u001b[32m7.2/7.2 MB\u001b[0m \u001b[31m87.8 MB/s\u001b[0m eta \u001b[36m0:00:00\u001b[0m\r\n",
      "\u001b[?25hDownloading invoke-2.2.1-py3-none-any.whl (160 kB)\r\n",
      "\u001b[2K   \u001b[90m━━━━━━━━━━━━━━━━━━━━━━━━━━━━━━━━━━━━━━━━\u001b[0m \u001b[32m160.3/160.3 kB\u001b[0m \u001b[31m13.0 MB/s\u001b[0m eta \u001b[36m0:00:00\u001b[0m\r\n",
      "\u001b[?25hDownloading symspellpy-6.9.0-py3-none-any.whl (2.6 MB)\r\n",
      "\u001b[2K   \u001b[90m━━━━━━━━━━━━━━━━━━━━━━━━━━━━━━━━━━━━━━━━\u001b[0m \u001b[32m2.6/2.6 MB\u001b[0m \u001b[31m70.3 MB/s\u001b[0m eta \u001b[36m0:00:00\u001b[0m\r\n",
      "\u001b[?25hDownloading sentence_transformers-5.1.1-py3-none-any.whl (486 kB)\r\n",
      "\u001b[2K   \u001b[90m━━━━━━━━━━━━━━━━━━━━━━━━━━━━━━━━━━━━━━━━\u001b[0m \u001b[32m486.6/486.6 kB\u001b[0m \u001b[31m28.6 MB/s\u001b[0m eta \u001b[36m0:00:00\u001b[0m\r\n",
      "\u001b[?25hDownloading editdistpy-0.1.6-cp311-cp311-manylinux_2_5_x86_64.manylinux1_x86_64.manylinux_2_17_x86_64.manylinux2014_x86_64.whl (158 kB)\r\n",
      "\u001b[2K   \u001b[90m━━━━━━━━━━━━━━━━━━━━━━━━━━━━━━━━━━━━━━━━\u001b[0m \u001b[32m158.4/158.4 kB\u001b[0m \u001b[31m11.4 MB/s\u001b[0m eta \u001b[36m0:00:00\u001b[0m\r\n",
      "\u001b[?25hDownloading nvidia_cublas_cu12-12.4.5.8-py3-none-manylinux2014_x86_64.whl (363.4 MB)\r\n",
      "\u001b[2K   \u001b[90m━━━━━━━━━━━━━━━━━━━━━━━━━━━━━━━━━━━━━━━━\u001b[0m \u001b[32m363.4/363.4 MB\u001b[0m \u001b[31m4.2 MB/s\u001b[0m eta \u001b[36m0:00:00\u001b[0m\r\n",
      "\u001b[?25hDownloading nvidia_cuda_cupti_cu12-12.4.127-py3-none-manylinux2014_x86_64.whl (13.8 MB)\r\n",
      "\u001b[2K   \u001b[90m━━━━━━━━━━━━━━━━━━━━━━━━━━━━━━━━━━━━━━━━\u001b[0m \u001b[32m13.8/13.8 MB\u001b[0m \u001b[31m60.1 MB/s\u001b[0m eta \u001b[36m0:00:00\u001b[0m\r\n",
      "\u001b[?25hDownloading nvidia_cuda_nvrtc_cu12-12.4.127-py3-none-manylinux2014_x86_64.whl (24.6 MB)\r\n",
      "\u001b[2K   \u001b[90m━━━━━━━━━━━━━━━━━━━━━━━━━━━━━━━━━━━━━━━━\u001b[0m \u001b[32m24.6/24.6 MB\u001b[0m \u001b[31m78.5 MB/s\u001b[0m eta \u001b[36m0:00:00\u001b[0m\r\n",
      "\u001b[?25hDownloading nvidia_cuda_runtime_cu12-12.4.127-py3-none-manylinux2014_x86_64.whl (883 kB)\r\n",
      "\u001b[2K   \u001b[90m━━━━━━━━━━━━━━━━━━━━━━━━━━━━━━━━━━━━━━━━\u001b[0m \u001b[32m883.7/883.7 kB\u001b[0m \u001b[31m39.4 MB/s\u001b[0m eta \u001b[36m0:00:00\u001b[0m\r\n",
      "\u001b[?25hDownloading nvidia_cudnn_cu12-9.1.0.70-py3-none-manylinux2014_x86_64.whl (664.8 MB)\r\n",
      "\u001b[2K   \u001b[90m━━━━━━━━━━━━━━━━━━━━━━━━━━━━━━━━━━━━━━━━\u001b[0m \u001b[32m664.8/664.8 MB\u001b[0m \u001b[31m2.0 MB/s\u001b[0m eta \u001b[36m0:00:00\u001b[0m\r\n",
      "\u001b[?25hDownloading nvidia_cufft_cu12-11.2.1.3-py3-none-manylinux2014_x86_64.whl (211.5 MB)\r\n",
      "\u001b[2K   \u001b[90m━━━━━━━━━━━━━━━━━━━━━━━━━━━━━━━━━━━━━━━━\u001b[0m \u001b[32m211.5/211.5 MB\u001b[0m \u001b[31m4.4 MB/s\u001b[0m eta \u001b[36m0:00:00\u001b[0m\r\n",
      "\u001b[?25hDownloading nvidia_curand_cu12-10.3.5.147-py3-none-manylinux2014_x86_64.whl (56.3 MB)\r\n",
      "\u001b[2K   \u001b[90m━━━━━━━━━━━━━━━━━━━━━━━━━━━━━━━━━━━━━━━━\u001b[0m \u001b[32m56.3/56.3 MB\u001b[0m \u001b[31m30.8 MB/s\u001b[0m eta \u001b[36m0:00:00\u001b[0m\r\n",
      "\u001b[?25hDownloading nvidia_cusolver_cu12-11.6.1.9-py3-none-manylinux2014_x86_64.whl (127.9 MB)\r\n",
      "\u001b[2K   \u001b[90m━━━━━━━━━━━━━━━━━━━━━━━━━━━━━━━━━━━━━━━━\u001b[0m \u001b[32m127.9/127.9 MB\u001b[0m \u001b[31m13.4 MB/s\u001b[0m eta \u001b[36m0:00:00\u001b[0m\r\n",
      "\u001b[?25hDownloading nvidia_cusparse_cu12-12.3.1.170-py3-none-manylinux2014_x86_64.whl (207.5 MB)\r\n",
      "\u001b[2K   \u001b[90m━━━━━━━━━━━━━━━━━━━━━━━━━━━━━━━━━━━━━━━━\u001b[0m \u001b[32m207.5/207.5 MB\u001b[0m \u001b[31m8.3 MB/s\u001b[0m eta \u001b[36m0:00:00\u001b[0m\r\n",
      "\u001b[?25hDownloading nvidia_nvjitlink_cu12-12.4.127-py3-none-manylinux2014_x86_64.whl (21.1 MB)\r\n",
      "\u001b[2K   \u001b[90m━━━━━━━━━━━━━━━━━━━━━━━━━━━━━━━━━━━━━━━━\u001b[0m \u001b[32m21.1/21.1 MB\u001b[0m \u001b[31m85.2 MB/s\u001b[0m eta \u001b[36m0:00:00\u001b[0m\r\n",
      "\u001b[?25hDownloading huggingface_hub-0.35.3-py3-none-any.whl (564 kB)\r\n",
      "\u001b[2K   \u001b[90m━━━━━━━━━━━━━━━━━━━━━━━━━━━━━━━━━━━━━━━━\u001b[0m \u001b[32m564.3/564.3 kB\u001b[0m \u001b[31m30.8 MB/s\u001b[0m eta \u001b[36m0:00:00\u001b[0m\r\n",
      "\u001b[?25hDownloading uritools-5.0.0-py3-none-any.whl (10 kB)\r\n",
      "Building wheels for collected packages: hunspell\r\n",
      "  Building wheel for hunspell (setup.py) ... \u001b[?25l\u001b[?25hdone\r\n",
      "  Created wheel for hunspell: filename=hunspell-0.5.5-cp311-cp311-linux_x86_64.whl size=66309 sha256=3ea8b7438af92b4103feee63d258ee2c232b2e8457e06d7f38c5738cf5d6bb9e\r\n",
      "  Stored in directory: /root/.cache/pip/wheels/0b/41/b3/14ebfe8dfb3116e3f1ab55ff0db766d1ef033b6842ccc67e24\r\n",
      "Successfully built hunspell\r\n",
      "Installing collected packages: hunspell, emot, uritools, pyspellchecker, nvidia-nvjitlink-cu12, nvidia-curand-cu12, nvidia-cufft-cu12, nvidia-cuda-runtime-cu12, nvidia-cuda-nvrtc-cu12, nvidia-cuda-cupti-cu12, nvidia-cublas-cu12, invoke, editdistpy, urlextract, symspellpy, nvidia-cusparse-cu12, nvidia-cudnn-cu12, huggingface-hub, nvidia-cusolver-cu12, sentence_transformers, iterative-stratification\r\n",
      "  Attempting uninstall: nvidia-nvjitlink-cu12\r\n",
      "    Found existing installation: nvidia-nvjitlink-cu12 12.5.82\r\n",
      "    Uninstalling nvidia-nvjitlink-cu12-12.5.82:\r\n",
      "      Successfully uninstalled nvidia-nvjitlink-cu12-12.5.82\r\n",
      "  Attempting uninstall: nvidia-curand-cu12\r\n",
      "    Found existing installation: nvidia-curand-cu12 10.3.6.82\r\n",
      "    Uninstalling nvidia-curand-cu12-10.3.6.82:\r\n",
      "      Successfully uninstalled nvidia-curand-cu12-10.3.6.82\r\n",
      "  Attempting uninstall: nvidia-cufft-cu12\r\n",
      "    Found existing installation: nvidia-cufft-cu12 11.2.3.61\r\n",
      "    Uninstalling nvidia-cufft-cu12-11.2.3.61:\r\n",
      "      Successfully uninstalled nvidia-cufft-cu12-11.2.3.61\r\n",
      "  Attempting uninstall: nvidia-cuda-runtime-cu12\r\n",
      "    Found existing installation: nvidia-cuda-runtime-cu12 12.5.82\r\n",
      "    Uninstalling nvidia-cuda-runtime-cu12-12.5.82:\r\n",
      "      Successfully uninstalled nvidia-cuda-runtime-cu12-12.5.82\r\n",
      "  Attempting uninstall: nvidia-cuda-nvrtc-cu12\r\n",
      "    Found existing installation: nvidia-cuda-nvrtc-cu12 12.5.82\r\n",
      "    Uninstalling nvidia-cuda-nvrtc-cu12-12.5.82:\r\n",
      "      Successfully uninstalled nvidia-cuda-nvrtc-cu12-12.5.82\r\n",
      "  Attempting uninstall: nvidia-cuda-cupti-cu12\r\n",
      "    Found existing installation: nvidia-cuda-cupti-cu12 12.5.82\r\n",
      "    Uninstalling nvidia-cuda-cupti-cu12-12.5.82:\r\n",
      "      Successfully uninstalled nvidia-cuda-cupti-cu12-12.5.82\r\n",
      "  Attempting uninstall: nvidia-cublas-cu12\r\n",
      "    Found existing installation: nvidia-cublas-cu12 12.5.3.2\r\n",
      "    Uninstalling nvidia-cublas-cu12-12.5.3.2:\r\n",
      "      Successfully uninstalled nvidia-cublas-cu12-12.5.3.2\r\n",
      "  Attempting uninstall: nvidia-cusparse-cu12\r\n",
      "    Found existing installation: nvidia-cusparse-cu12 12.5.1.3\r\n",
      "    Uninstalling nvidia-cusparse-cu12-12.5.1.3:\r\n",
      "      Successfully uninstalled nvidia-cusparse-cu12-12.5.1.3\r\n",
      "  Attempting uninstall: nvidia-cudnn-cu12\r\n",
      "    Found existing installation: nvidia-cudnn-cu12 9.3.0.75\r\n",
      "    Uninstalling nvidia-cudnn-cu12-9.3.0.75:\r\n",
      "      Successfully uninstalled nvidia-cudnn-cu12-9.3.0.75\r\n",
      "  Attempting uninstall: huggingface-hub\r\n",
      "    Found existing installation: huggingface-hub 1.0.0rc2\r\n",
      "    Uninstalling huggingface-hub-1.0.0rc2:\r\n",
      "      Successfully uninstalled huggingface-hub-1.0.0rc2\r\n",
      "  Attempting uninstall: nvidia-cusolver-cu12\r\n",
      "    Found existing installation: nvidia-cusolver-cu12 11.6.3.83\r\n",
      "    Uninstalling nvidia-cusolver-cu12-11.6.3.83:\r\n",
      "      Successfully uninstalled nvidia-cusolver-cu12-11.6.3.83\r\n",
      "  Attempting uninstall: sentence_transformers\r\n",
      "    Found existing installation: sentence-transformers 4.1.0\r\n",
      "    Uninstalling sentence-transformers-4.1.0:\r\n",
      "      Successfully uninstalled sentence-transformers-4.1.0\r\n",
      "\u001b[31mERROR: pip's dependency resolver does not currently take into account all the packages that are installed. This behaviour is the source of the following dependency conflicts.\r\n",
      "datasets 4.1.1 requires pyarrow>=21.0.0, but you have pyarrow 19.0.1 which is incompatible.\r\n",
      "libcugraph-cu12 25.6.0 requires libraft-cu12==25.6.*, but you have libraft-cu12 25.2.0 which is incompatible.\r\n",
      "gradio 5.38.1 requires pydantic<2.12,>=2.0, but you have pydantic 2.12.0a1 which is incompatible.\r\n",
      "pylibcugraph-cu12 25.6.0 requires pylibraft-cu12==25.6.*, but you have pylibraft-cu12 25.2.0 which is incompatible.\r\n",
      "pylibcugraph-cu12 25.6.0 requires rmm-cu12==25.6.*, but you have rmm-cu12 25.2.0 which is incompatible.\u001b[0m\u001b[31m\r\n",
      "\u001b[0mSuccessfully installed editdistpy-0.1.6 emot-3.1 huggingface-hub-0.35.3 hunspell-0.5.5 invoke-2.2.1 iterative-stratification-0.1.9 nvidia-cublas-cu12-12.4.5.8 nvidia-cuda-cupti-cu12-12.4.127 nvidia-cuda-nvrtc-cu12-12.4.127 nvidia-cuda-runtime-cu12-12.4.127 nvidia-cudnn-cu12-9.1.0.70 nvidia-cufft-cu12-11.2.1.3 nvidia-curand-cu12-10.3.5.147 nvidia-cusolver-cu12-11.6.1.9 nvidia-cusparse-cu12-12.3.1.170 nvidia-nvjitlink-cu12-12.4.127 pyspellchecker-0.8.3 sentence_transformers-5.1.1 symspellpy-6.9.0 uritools-5.0.0 urlextract-1.9.0\r\n",
      "Collecting en-core-web-sm==3.8.0\r\n",
      "  Downloading https://github.com/explosion/spacy-models/releases/download/en_core_web_sm-3.8.0/en_core_web_sm-3.8.0-py3-none-any.whl (12.8 MB)\r\n",
      "\u001b[2K     \u001b[90m━━━━━━━━━━━━━━━━━━━━━━━━━━━━━━━━━━━━━━━━\u001b[0m \u001b[32m12.8/12.8 MB\u001b[0m \u001b[31m88.9 MB/s\u001b[0m eta \u001b[36m0:00:00\u001b[0m\r\n",
      "\u001b[?25h\u001b[38;5;2m✔ Download and installation successful\u001b[0m\r\n",
      "You can now load the package via spacy.load('en_core_web_sm')\r\n",
      "\u001b[38;5;3m⚠ Restart to reload dependencies\u001b[0m\r\n",
      "If you are in a Jupyter or Colab notebook, you may need to restart Python in\r\n",
      "order to load all the package's dependencies. You can do this by selecting the\r\n",
      "'Restart kernel' or 'Restart runtime' option.\r\n"
     ]
    }
   ],
   "source": [
    "!pip install -r requirements_kaggle.txt --upgrade-strategy only-if-needed\n",
    "!python -m spacy download en_core_web_sm"
   ]
  },
  {
   "cell_type": "code",
   "execution_count": 6,
   "id": "9afc2245",
   "metadata": {
    "execution": {
     "iopub.execute_input": "2025-10-13T08:49:47.718829Z",
     "iopub.status.busy": "2025-10-13T08:49:47.718580Z",
     "iopub.status.idle": "2025-10-13T14:16:47.448224Z",
     "shell.execute_reply": "2025-10-13T14:16:47.447411Z"
    },
    "papermill": {
     "duration": 19619.75616,
     "end_time": "2025-10-13T14:16:47.450002",
     "exception": false,
     "start_time": "2025-10-13T08:49:47.693842",
     "status": "completed"
    },
    "tags": []
   },
   "outputs": [
    {
     "name": "stdout",
     "output_type": "stream",
     "text": [
      "\r\n",
      "\r\n",
      "\r\n",
      "\r\n",
      "\r\n",
      "\r\n",
      "\r\n",
      "\r\n",
      "\r\n",
      "\r\n",
      "\r\n",
      "\r\n",
      "\r\n",
      "\r\n",
      "\r\n",
      "\r\n",
      "\r\n",
      "\r\n",
      "\r\n",
      "\r\n",
      "\r\n"
     ]
    }
   ],
   "source": [
    "#!invoke retrain-model --sample-n=1000 --opt-trials=3\n",
    "!invoke retrain-model --opt-trials=0"
   ]
  },
  {
   "cell_type": "code",
   "execution_count": 7,
   "id": "f48e1819",
   "metadata": {
    "execution": {
     "iopub.execute_input": "2025-10-13T14:16:47.502700Z",
     "iopub.status.busy": "2025-10-13T14:16:47.501985Z",
     "iopub.status.idle": "2025-10-13T14:16:48.735109Z",
     "shell.execute_reply": "2025-10-13T14:16:48.734144Z"
    },
    "papermill": {
     "duration": 1.260728,
     "end_time": "2025-10-13T14:16:48.736596",
     "exception": false,
     "start_time": "2025-10-13T14:16:47.475868",
     "status": "completed"
    },
    "tags": []
   },
   "outputs": [
    {
     "name": "stdout",
     "output_type": "stream",
     "text": [
      "On branch main\r\n",
      "Your branch is up to date with 'origin/main'.\r\n",
      "\r\n",
      "Untracked files:\r\n",
      "  (use \"git add <file>...\" to include in what will be committed)\r\n",
      "\t\u001b[31mdata/processed/X_test_transformed.csv\u001b[m\r\n",
      "\t\u001b[31mdata/processed/X_train_transformed.csv\u001b[m\r\n",
      "\t\u001b[31mlogs/train.log\u001b[m\r\n",
      "\t\u001b[31mmodels/base_text_preprocessor.joblib\u001b[m\r\n",
      "\t\u001b[31mmodels/label_encoder.joblib\u001b[m\r\n",
      "\t\u001b[31mmodels/sbert_classifier.joblib\u001b[m\r\n",
      "\t\u001b[31mmodels/vectorizer.joblib\u001b[m\r\n",
      "\r\n",
      "nothing added to commit but untracked files present (use \"git add\" to track)\r\n"
     ]
    }
   ],
   "source": [
    "!git status"
   ]
  },
  {
   "cell_type": "code",
   "execution_count": 8,
   "id": "0dca4027",
   "metadata": {
    "execution": {
     "iopub.execute_input": "2025-10-13T14:16:48.787861Z",
     "iopub.status.busy": "2025-10-13T14:16:48.787264Z",
     "iopub.status.idle": "2025-10-13T14:16:55.490179Z",
     "shell.execute_reply": "2025-10-13T14:16:55.489426Z"
    },
    "papermill": {
     "duration": 6.729807,
     "end_time": "2025-10-13T14:16:55.491565",
     "exception": false,
     "start_time": "2025-10-13T14:16:48.761758",
     "status": "completed"
    },
    "tags": []
   },
   "outputs": [
    {
     "name": "stdout",
     "output_type": "stream",
     "text": [
      "[main bcc21e8] Add trained model (gpu)\r\n",
      " 7 files changed, 18 insertions(+)\r\n",
      " create mode 100644 data/processed/X_test_transformed.csv\r\n",
      " create mode 100644 data/processed/X_train_transformed.csv\r\n",
      " create mode 100644 logs/train.log\r\n",
      " create mode 100644 models/base_text_preprocessor.joblib\r\n",
      " create mode 100644 models/label_encoder.joblib\r\n",
      " create mode 100644 models/sbert_classifier.joblib\r\n",
      " create mode 100644 models/vectorizer.joblib\r\n"
     ]
    }
   ],
   "source": [
    "!git add .\n",
    "!git commit -m \"Add trained model (gpu)\""
   ]
  },
  {
   "cell_type": "code",
   "execution_count": 9,
   "id": "bb199410",
   "metadata": {
    "execution": {
     "iopub.execute_input": "2025-10-13T14:16:55.543968Z",
     "iopub.status.busy": "2025-10-13T14:16:55.543160Z",
     "iopub.status.idle": "2025-10-13T14:17:16.506072Z",
     "shell.execute_reply": "2025-10-13T14:17:16.505216Z"
    },
    "papermill": {
     "duration": 20.990487,
     "end_time": "2025-10-13T14:17:16.507633",
     "exception": false,
     "start_time": "2025-10-13T14:16:55.517146",
     "status": "completed"
    },
    "tags": []
   },
   "outputs": [
    {
     "name": "stdout",
     "output_type": "stream",
     "text": [
      "Uploading LFS objects: 100% (6/6), 1.1 GB | 59 MB/s, done.\r\n",
      "Enumerating objects: 17, done.\r\n",
      "Counting objects: 100% (15/15), done.\r\n",
      "Delta compression using up to 4 threads\r\n",
      "Compressing objects: 100% (12/12), done.\r\n",
      "Writing objects: 100% (12/12), 1.48 KiB | 1.48 MiB/s, done.\r\n",
      "Total 12 (delta 1), reused 0 (delta 0), pack-reused 0\r\n",
      "remote: Resolving deltas: 100% (1/1), completed with 1 local object.\u001b[K\r\n",
      "To https://github.com/Tamplier/nlp_suicide_watch.git\r\n",
      "   c9c66fb..bcc21e8  main -> main\r\n"
     ]
    }
   ],
   "source": [
    "!git push origin main"
   ]
  },
  {
   "cell_type": "code",
   "execution_count": null,
   "id": "4c1eb10c",
   "metadata": {
    "papermill": {
     "duration": 0.028146,
     "end_time": "2025-10-13T14:17:16.564488",
     "exception": false,
     "start_time": "2025-10-13T14:17:16.536342",
     "status": "completed"
    },
    "tags": []
   },
   "outputs": [],
   "source": []
  }
 ],
 "metadata": {
  "kaggle": {
   "accelerator": "gpu",
   "dataSources": [],
   "dockerImageVersionId": 31154,
   "isGpuEnabled": true,
   "isInternetEnabled": true,
   "language": "python",
   "sourceType": "notebook"
  },
  "kernelspec": {
   "display_name": "Python 3",
   "language": "python",
   "name": "python3"
  },
  "language_info": {
   "codemirror_mode": {
    "name": "ipython",
    "version": 3
   },
   "file_extension": ".py",
   "mimetype": "text/x-python",
   "name": "python",
   "nbconvert_exporter": "python",
   "pygments_lexer": "ipython3",
   "version": "3.11.13"
  },
  "papermill": {
   "default_parameters": {},
   "duration": 19761.670574,
   "end_time": "2025-10-13T14:17:16.911096",
   "environment_variables": {},
   "exception": null,
   "input_path": "__notebook__.ipynb",
   "output_path": "__notebook__.ipynb",
   "parameters": {},
   "start_time": "2025-10-13T08:47:55.240522",
   "version": "2.6.0"
  }
 },
 "nbformat": 4,
 "nbformat_minor": 5
}
